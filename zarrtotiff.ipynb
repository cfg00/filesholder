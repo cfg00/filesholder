{
 "cells": [
  {
   "cell_type": "code",
   "execution_count": 15,
   "id": "ace35047-fbb1-428f-ab63-8272b3cf9bb7",
   "metadata": {},
   "outputs": [],
   "source": [
    "import numpy as np"
   ]
  },
  {
   "cell_type": "code",
   "execution_count": 1,
   "id": "42ff73ad-5f42-420f-beb6-43bd96fb6fd8",
   "metadata": {},
   "outputs": [
    {
     "name": "stdout",
     "output_type": "stream",
     "text": [
      "\\\\merfish7\\merfish7v1\\DNA_FISH\\Induced_cardio_05_04_2023\\Analysis\\TIFF_FILES\n"
     ]
    },
    {
     "name": "stderr",
     "output_type": "stream",
     "text": [
      "100%|██████████████████████████████████████████████████████████████████████████████| 248/248 [1:07:48<00:00, 16.40s/it]\n"
     ]
    }
   ],
   "source": [
    "import os\n",
    "import zarr\n",
    "import tifffile\n",
    "import glob\n",
    "import tqdm\n",
    "from ioMicro import *\n",
    "files = glob.glob(r'\\\\merfish7\\merfish7v1\\DNA_FISH\\Induced_cardio_05_04_2023\\A4_LamA_LamB_EGFP\\*zarr')\n",
    "\n",
    "output_directory = r\"\\\\merfish7\\merfish7v1\\DNA_FISH\\Induced_cardio_05_04_2023\\Analysis\\TIFF_FILES\"\n",
    "print(output_directory)\n",
    "\n",
    "for element in tqdm(files):\n",
    "    image = read_im(element)\n",
    "    cast = np.array(image[0],dtype=np.float32)\n",
    "    tiff_name = element[:-5] + \".tif\"\n",
    "    tiff_path = os.path.join(output_directory,tiff_name)\n",
    "    tifffile.imwrite(tiff_path, cast)\n",
    "    \n",
    "\n"
   ]
  },
  {
   "cell_type": "code",
   "execution_count": null,
   "id": "50080304-a204-4b2a-b212-cd626e5bc501",
   "metadata": {},
   "outputs": [],
   "source": []
  }
 ],
 "metadata": {
  "kernelspec": {
   "display_name": "Python 3 (ipykernel)",
   "language": "python",
   "name": "python3"
  },
  "language_info": {
   "codemirror_mode": {
    "name": "ipython",
    "version": 3
   },
   "file_extension": ".py",
   "mimetype": "text/x-python",
   "name": "python",
   "nbconvert_exporter": "python",
   "pygments_lexer": "ipython3",
   "version": "3.10.9"
  }
 },
 "nbformat": 4,
 "nbformat_minor": 5
}
