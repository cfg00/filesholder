{
 "cells": [
  {
   "cell_type": "code",
   "execution_count": 13,
   "id": "9e515545-0d1a-4b44-935c-e958f6f8556a",
   "metadata": {},
   "outputs": [],
   "source": [
    "import os\n",
    "import zarr\n",
    "import tifffile\n",
    "import glob\n",
    "import tqdm\n",
    "from ioMicro import *\n",
    "import napari"
   ]
  },
  {
   "cell_type": "code",
   "execution_count": 107,
   "id": "5f6c5826-7689-43be-89f5-ea80cae22389",
   "metadata": {},
   "outputs": [],
   "source": [
    "filePath = r'U:\\20230515D101Myh67d15\\H1_B1_2_3\\Conv_zscan__275.zarr'\n",
    "im = read_im(filePath)\n",
    "cast = np.array(im[3][10], dtype=np.float32)"
   ]
  },
  {
   "cell_type": "code",
   "execution_count": 108,
   "id": "9b1d0d5e-1d97-4499-8751-7f8e2d45c660",
   "metadata": {},
   "outputs": [
    {
     "name": "stdout",
     "output_type": "stream",
     "text": [
      "Conv_zscan__275.zarr\n"
     ]
    }
   ],
   "source": [
    "print(filePath[-20:])"
   ]
  },
  {
   "cell_type": "code",
   "execution_count": 109,
   "id": "e62b51c0-1f43-4ea3-acc5-882b16485cbc",
   "metadata": {},
   "outputs": [
    {
     "data": {
      "text/plain": [
       "<Image layer 'im' at 0x18955de1bb0>"
      ]
     },
     "execution_count": 109,
     "metadata": {},
     "output_type": "execute_result"
    }
   ],
   "source": [
    "V = napari.Viewer()\n",
    "\n",
    "V.add_image(im)"
   ]
  },
  {
   "cell_type": "code",
   "execution_count": 100,
   "id": "9aa08060-4356-4cc4-b107-3648ff5be835",
   "metadata": {},
   "outputs": [
    {
     "data": {
      "text/plain": [
       "<Image layer 'cast' at 0x188bbf41580>"
      ]
     },
     "execution_count": 100,
     "metadata": {},
     "output_type": "execute_result"
    }
   ],
   "source": [
    "B = napari.Viewer()\n",
    "B.add_image(cast)"
   ]
  },
  {
   "cell_type": "code",
   "execution_count": 30,
   "id": "664d88bc-620f-48af-bfe8-c6ea59a9db9e",
   "metadata": {},
   "outputs": [
    {
     "name": "stdout",
     "output_type": "stream",
     "text": [
      "D:\\Carlos\\Scripts\\Training_Slices\n"
     ]
    }
   ],
   "source": [
    "path = str(os.getcwd()) + os.sep + 'Training_Slices'\n",
    "if os.path.exists(path) == False:\n",
    "    os.mkdir(path)\n",
    "print(path)"
   ]
  },
  {
   "cell_type": "code",
   "execution_count": 51,
   "id": "745c68a1-377a-4c3f-be03-22c4d9d7cac6",
   "metadata": {},
   "outputs": [
    {
     "name": "stdout",
     "output_type": "stream",
     "text": [
      "D:\\Carlos\\Scripts\\Training_Slices\\Conv_zscan__002.tif\n"
     ]
    }
   ],
   "source": [
    "print (totalPath)"
   ]
  },
  {
   "cell_type": "code",
   "execution_count": 106,
   "id": "a1eb8fc3-0107-4c17-add6-fb9b430b8d79",
   "metadata": {},
   "outputs": [],
   "source": [
    "tiffName = filePath[-20:]\n",
    "tiffName = tiffName.replace(\".zarr\",\".tif\")\n",
    "totalPath = os.path.join(path,tiffName)\n",
    "\n",
    "tifffile.imwrite(totalPath, cast)"
   ]
  },
  {
   "cell_type": "code",
   "execution_count": null,
   "id": "16ac8d56-cf60-4ee2-ac90-e68206e49969",
   "metadata": {},
   "outputs": [],
   "source": []
  }
 ],
 "metadata": {
  "kernelspec": {
   "display_name": "Python 3 (ipykernel)",
   "language": "python",
   "name": "python3"
  },
  "language_info": {
   "codemirror_mode": {
    "name": "ipython",
    "version": 3
   },
   "file_extension": ".py",
   "mimetype": "text/x-python",
   "name": "python",
   "nbconvert_exporter": "python",
   "pygments_lexer": "ipython3",
   "version": "3.9.16"
  }
 },
 "nbformat": 4,
 "nbformat_minor": 5
}
