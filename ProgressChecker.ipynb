{
 "cells": [
  {
   "cell_type": "code",
   "execution_count": 31,
   "metadata": {},
   "outputs": [],
   "source": [
    "#first run this cell to get the necessary imports\n",
    "import os.path\n",
    "import glob\n",
    "import sys\n",
    "import shutil"
   ]
  },
  {
   "cell_type": "code",
   "execution_count": 32,
   "metadata": {},
   "outputs": [
    {
     "data": {
      "text/plain": [
       "'D:\\\\20230515D101Myh67d15'"
      ]
     },
     "execution_count": 32,
     "metadata": {},
     "output_type": "execute_result"
    }
   ],
   "source": [
    "import os\n",
    "os.getcwd()"
   ]
  },
  {
   "cell_type": "code",
   "execution_count": null,
   "metadata": {},
   "outputs": [],
   "source": []
  },
  {
   "cell_type": "code",
   "execution_count": 38,
   "metadata": {},
   "outputs": [],
   "source": [
    "#gets number of files, and then it compares if they are equal given two directiories\n",
    "def fast_compare(dir1,dir2):\n",
    "    r1 = (len([entry for entry in os.listdir(dir1) if os.path.isfile(os.path.join(dir1, entry))]))\n",
    "    r2 = (len([entry for entry in os.listdir(dir2) if os.path.isfile(os.path.join(dir2, entry))]))\n",
    "    return r1 == r2"
   ]
  },
  {
   "cell_type": "code",
   "execution_count": 35,
   "metadata": {},
   "outputs": [],
   "source": [
    "#This grabs all the relevant files\n",
    "def filegrabber():\n",
    "    prefixed = [filename for filename in os.listdir('.') if filename.startswith(\"H\")]\n",
    "    return prefixed"
   ]
  },
  {
   "cell_type": "code",
   "execution_count": 36,
   "metadata": {},
   "outputs": [
    {
     "data": {
      "text/plain": [
       "['H2_Q4_5_6',\n",
       " 'H3_Q7_8_9',\n",
       " 'H4_Q10_11_12',\n",
       " 'H5_Q13_14_15',\n",
       " 'H6_Q16_17_18',\n",
       " 'H7_Q19_20_21',\n",
       " 'H8_Q22_23_24']"
      ]
     },
     "execution_count": 36,
     "metadata": {},
     "output_type": "execute_result"
    }
   ],
   "source": [
    "elements = filegrabber()\n",
    "elements\n",
    "#might be RNA"
   ]
  },
  {
   "cell_type": "code",
   "execution_count": 37,
   "metadata": {},
   "outputs": [],
   "source": [
    "#this is the path on the NAS, remember to add r\"\" to avoid syntax errors. This changes with experiment\n",
    "pathOnNAS = r\"R:\\20230515D101Myh67d15\\RNA\"\n"
   ]
  },
  {
   "cell_type": "code",
   "execution_count": null,
   "metadata": {},
   "outputs": [],
   "source": []
  },
  {
   "cell_type": "code",
   "execution_count": 39,
   "metadata": {},
   "outputs": [
    {
     "name": "stdout",
     "output_type": "stream",
     "text": [
      "succesful at directory: H2_Q4_5_6\n",
      "succesful at directory: H3_Q7_8_9\n",
      "succesful at directory: H4_Q10_11_12\n",
      "succesful at directory: H5_Q13_14_15\n",
      "succesful at directory: H6_Q16_17_18\n",
      "succesful at directory: H7_Q19_20_21\n",
      "succesful at directory: H8_Q22_23_24\n"
     ]
    }
   ],
   "source": [
    "#its normal for this step to take some time\n",
    "for element in elements:\n",
    "    arg1 = element\n",
    "    #appended_path = os.path.join(existing_path, string_to_append)\n",
    "    arg2 = os.path.join(pathOnNAS,element)\n",
    "    \n",
    "    result = fast_compare(arg1,arg2)\n",
    "    if result == False:\n",
    "        print(\"not finished at the following directory: \" + str(element))\n",
    "    else:\n",
    "        print(\"succesful at directory: \"+ str(element))\n",
    "    "
   ]
  },
  {
   "cell_type": "code",
   "execution_count": 40,
   "metadata": {},
   "outputs": [
    {
     "data": {
      "text/plain": [
       "'D:\\\\20230515D101Myh67d15'"
      ]
     },
     "execution_count": 40,
     "metadata": {},
     "output_type": "execute_result"
    }
   ],
   "source": [
    "os.getcwd()"
   ]
  },
  {
   "cell_type": "code",
   "execution_count": null,
   "metadata": {},
   "outputs": [],
   "source": []
  }
 ],
 "metadata": {
  "kernelspec": {
   "display_name": "Python 3",
   "language": "python",
   "name": "python3"
  },
  "language_info": {
   "codemirror_mode": {
    "name": "ipython",
    "version": 3
   },
   "file_extension": ".py",
   "mimetype": "text/x-python",
   "name": "python",
   "nbconvert_exporter": "python",
   "pygments_lexer": "ipython3",
   "version": "3.7.3"
  }
 },
 "nbformat": 4,
 "nbformat_minor": 2
}
