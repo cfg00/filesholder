{
 "cells": [
  {
   "cell_type": "code",
   "execution_count": 1,
   "id": "942c8484-5332-4e30-ab39-2c4b0e29669f",
   "metadata": {},
   "outputs": [],
   "source": [
    "flds = ['\\\\\\\\merfish11.ucsd.edu\\\\Public\\\\20230908_D106Luo\\\\DNA\\\\H63_B187_188_189', '\\\\\\\\merfish9.ucsd.edu\\\\volume1\\\\20230908_D106Luo\\\\DNA\\\\H38_B112_113_114', '\\\\\\\\merfish9.ucsd.edu\\\\volume1\\\\20230908_D106Luo\\\\DNA\\\\H7_B19_20_21', '\\\\\\\\merfish9.ucsd.edu\\\\volume1\\\\20230908_D106Luo\\\\DNA\\\\H33_B97_98_99', '\\\\\\\\merfish11.ucsd.edu\\\\Public\\\\20230908_D106Luo\\\\DNA\\\\H80_B238_239_240', '\\\\\\\\merfish11.ucsd.edu\\\\Public\\\\20230908_D106Luo\\\\DNA\\\\H112_B334_335_336', '\\\\\\\\merfish9.ucsd.edu\\\\volume1\\\\20230908_D106Luo\\\\DNA\\\\H27_B79_80_81', '\\\\\\\\merfish9.ucsd.edu\\\\volume1\\\\20230908_D106Luo\\\\DNA\\\\H14_B40_41_42', '\\\\\\\\merfish9.ucsd.edu\\\\volume1\\\\20230908_D106Luo\\\\DNA\\\\H48_B142_143_144', '\\\\\\\\merfish11.ucsd.edu\\\\Public\\\\20230908_D106Luo\\\\DNA\\\\H113_B337_338_339', '\\\\\\\\merfish11.ucsd.edu\\\\Public\\\\20230908_D106Luo\\\\DNA\\\\H53_B157_158_159', '\\\\\\\\merfish9.ucsd.edu\\\\volume1\\\\20230908_D106Luo\\\\DNA\\\\H41_B121_122_123', '\\\\\\\\merfish9.ucsd.edu\\\\volume1\\\\20230908_D106Luo\\\\DNA\\\\H5_B13_14_15', '\\\\\\\\merfish11.ucsd.edu\\\\Public\\\\20230908_D106Luo\\\\DNA\\\\H83_B247_248_249', '\\\\\\\\merfish11.ucsd.edu\\\\Public\\\\20230908_D106Luo\\\\DNA\\\\H64_B190_191_192', '\\\\\\\\merfish9.ucsd.edu\\\\volume1\\\\20230908_D106Luo\\\\DNA\\\\H20_B58_59_60', '\\\\\\\\merfish9.ucsd.edu\\\\volume1\\\\20230908_D106Luo\\\\DNA\\\\H40_B118_119_120', '\\\\\\\\merfish11.ucsd.edu\\\\Public\\\\20230908_D106Luo\\\\DNA\\\\H102_B304_305_306', '\\\\\\\\merfish11.ucsd.edu\\\\Public\\\\20230908_D106Luo\\\\DNA\\\\H61_B181_182_183', '\\\\\\\\merfish9.ucsd.edu\\\\volume1\\\\20230908_D106Luo\\\\DNA\\\\H21_B61_62_63', '\\\\\\\\merfish9.ucsd.edu\\\\volume1\\\\20230908_D106Luo\\\\DNA\\\\H49_B145_146_147', '\\\\\\\\merfish9.ucsd.edu\\\\volume1\\\\20230908_D106Luo\\\\DNA\\\\H15_B43_44_45', '\\\\\\\\merfish11.ucsd.edu\\\\Public\\\\20230908_D106Luo\\\\DNA\\\\H94_B280_281_282', '\\\\\\\\merfish9.ucsd.edu\\\\volume1\\\\20230908_D106Luo\\\\DNA\\\\H10_B28_29_30', '\\\\\\\\merfish9.ucsd.edu\\\\volume1\\\\20230908_D106Luo\\\\DNA\\\\H52_B154_155_156', '\\\\\\\\merfish9.ucsd.edu\\\\volume1\\\\20230908_D106Luo\\\\DNA\\\\H35_B103_104_105', '\\\\\\\\merfish11.ucsd.edu\\\\Public\\\\20230908_D106Luo\\\\DNA\\\\H67_B199_200_201', '\\\\\\\\merfish11.ucsd.edu\\\\Public\\\\20230908_D106Luo\\\\DNA\\\\H76_B226_227_228', '\\\\\\\\merfish9.ucsd.edu\\\\volume1\\\\20230908_D106Luo\\\\DNA\\\\H1_B1_2_3', '\\\\\\\\merfish11.ucsd.edu\\\\Public\\\\20230908_D106Luo\\\\DNA\\\\H75_B223_224_225', '\\\\\\\\merfish9.ucsd.edu\\\\volume1\\\\20230908_D106Luo\\\\DNA\\\\H30_B88_89_90', '\\\\\\\\merfish11.ucsd.edu\\\\Public\\\\20230908_D106Luo\\\\DNA\\\\H79_B235_236_237', '\\\\\\\\merfish11.ucsd.edu\\\\Public\\\\20230908_D106Luo\\\\DNA\\\\H56_B166_167_168', '\\\\\\\\merfish11.ucsd.edu\\\\Public\\\\20230908_D106Luo\\\\DNA\\\\H99_B295_296_297', '\\\\\\\\merfish9.ucsd.edu\\\\volume1\\\\20230908_D106Luo\\\\DNA\\\\H25_B73_74_75', '\\\\\\\\merfish11.ucsd.edu\\\\Public\\\\20230908_D106Luo\\\\DNA\\\\H73_B217_218_219', '\\\\\\\\merfish9.ucsd.edu\\\\volume1\\\\20230908_D106Luo\\\\DNA\\\\H6_B16_17_18', '\\\\\\\\merfish11.ucsd.edu\\\\Public\\\\20230908_D106Luo\\\\DNA\\\\H54_B160_161_162', '\\\\\\\\merfish9.ucsd.edu\\\\volume1\\\\20230908_D106Luo\\\\DNA\\\\H8_B22_23_24', '\\\\\\\\merfish9.ucsd.edu\\\\volume1\\\\20230908_D106Luo\\\\DNA\\\\H37_B109_110_111', '\\\\\\\\merfish9.ucsd.edu\\\\volume1\\\\20230908_D106Luo\\\\DNA\\\\H11_B31_32_33', '\\\\\\\\merfish9.ucsd.edu\\\\volume1\\\\20230908_D106Luo\\\\DNA\\\\H17_B49_50_51', '\\\\\\\\merfish11.ucsd.edu\\\\Public\\\\20230908_D106Luo\\\\DNA\\\\H86_B256_257_258', '\\\\\\\\merfish9.ucsd.edu\\\\volume1\\\\20230908_D106Luo\\\\DNA\\\\H26_B76_77_78', '\\\\\\\\merfish9.ucsd.edu\\\\volume1\\\\20230908_D106Luo\\\\DNA\\\\H12_B34_35_36', '\\\\\\\\merfish9.ucsd.edu\\\\volume1\\\\20230908_D106Luo\\\\DNA\\\\H28_B82_83_84', '\\\\\\\\merfish11.ucsd.edu\\\\Public\\\\20230908_D106Luo\\\\DNA\\\\H85_B253_254_255', '\\\\\\\\merfish11.ucsd.edu\\\\Public\\\\20230908_D106Luo\\\\DNA\\\\H45_B133_134_135', '\\\\\\\\merfish11.ucsd.edu\\\\Public\\\\20230908_D106Luo\\\\DNA\\\\H68_B202_203_204', '\\\\\\\\merfish9.ucsd.edu\\\\volume1\\\\20230908_D106Luo\\\\DNA\\\\H42_B124_125_126', '\\\\\\\\merfish9.ucsd.edu\\\\volume1\\\\20230908_D106Luo\\\\DNA\\\\H19_B55_56_57', '\\\\\\\\merfish11.ucsd.edu\\\\Public\\\\20230908_D106Luo\\\\DNA\\\\H58_B172_173_174', '\\\\\\\\merfish9.ucsd.edu\\\\volume1\\\\20230908_D106Luo\\\\DNA\\\\H29_B85_86_87', '\\\\\\\\merfish9.ucsd.edu\\\\volume1\\\\20230908_D106Luo\\\\DNA\\\\H18_B52_53_54', '\\\\\\\\merfish9.ucsd.edu\\\\volume1\\\\20230908_D106Luo\\\\DNA\\\\H13_B37_38_39', '\\\\\\\\merfish9.ucsd.edu\\\\volume1\\\\20230908_D106Luo\\\\DNA\\\\H43_B127_128_129', '\\\\\\\\merfish11.ucsd.edu\\\\Public\\\\20230908_D106Luo\\\\DNA\\\\H84_B250_251_252', '\\\\\\\\merfish9.ucsd.edu\\\\volume1\\\\20230908_D106Luo\\\\DNA\\\\H50_B148_149_150', '\\\\\\\\merfish9.ucsd.edu\\\\volume1\\\\20230908_D106Luo\\\\DNA\\\\H46_B136_137_138', '\\\\\\\\merfish11.ucsd.edu\\\\Public\\\\20230908_D106Luo\\\\DNA\\\\H90_B268_269_270', '\\\\\\\\merfish9.ucsd.edu\\\\volume1\\\\20230908_D106Luo\\\\DNA\\\\H45_B133_134_135', '\\\\\\\\merfish9.ucsd.edu\\\\volume1\\\\20230908_D106Luo\\\\DNA\\\\H31_B91_92_93', '\\\\\\\\merfish11.ucsd.edu\\\\Public\\\\20230908_D106Luo\\\\DNA\\\\H97_B289_290_291', '\\\\\\\\merfish11.ucsd.edu\\\\Public\\\\20230908_D106Luo\\\\DNA\\\\H60_B178_179_180', '\\\\\\\\merfish11.ucsd.edu\\\\Public\\\\20230908_D106Luo\\\\DNA\\\\H72_B214_215_216', '\\\\\\\\merfish9.ucsd.edu\\\\volume1\\\\20230908_D106Luo\\\\DNA\\\\H23_B67_68_69', '\\\\\\\\merfish9.ucsd.edu\\\\volume1\\\\20230908_D106Luo\\\\DNA\\\\H44_B130_131_132', '\\\\\\\\merfish11.ucsd.edu\\\\Public\\\\20230908_D106Luo\\\\DNA\\\\H95_B283_284_285', '\\\\\\\\merfish11.ucsd.edu\\\\Public\\\\20230908_D106Luo\\\\DNA\\\\H77_B229_230_231', '\\\\\\\\merfish11.ucsd.edu\\\\Public\\\\20230908_D106Luo\\\\DNA\\\\H98_B292_293_294', '\\\\\\\\merfish9.ucsd.edu\\\\volume1\\\\20230908_D106Luo\\\\DNA\\\\H39_B115_116_117', '\\\\\\\\merfish11.ucsd.edu\\\\Public\\\\20230908_D106Luo\\\\DNA\\\\H87_B259_260_261', '\\\\\\\\merfish11.ucsd.edu\\\\Public\\\\20230908_D106Luo\\\\DNA\\\\H82_B244_245_246', '\\\\\\\\merfish11.ucsd.edu\\\\Public\\\\20230908_D106Luo\\\\DNA\\\\H59_B175_176_177', '\\\\\\\\merfish11.ucsd.edu\\\\Public\\\\20230908_D106Luo\\\\DNA\\\\H100_B298_299_300', '\\\\\\\\merfish9.ucsd.edu\\\\volume1\\\\20230908_D106Luo\\\\DNA\\\\H22_B64_65_66', '\\\\\\\\merfish11.ucsd.edu\\\\Public\\\\20230908_D106Luo\\\\DNA\\\\H91_B271_272_273', '\\\\\\\\merfish11.ucsd.edu\\\\Public\\\\20230908_D106Luo\\\\DNA\\\\H88_B262_263_264', '\\\\\\\\merfish11.ucsd.edu\\\\Public\\\\20230908_D106Luo\\\\DNA\\\\H69_B205_206_207', '\\\\\\\\merfish11.ucsd.edu\\\\Public\\\\20230908_D106Luo\\\\DNA\\\\H71_B211_212_213', '\\\\\\\\merfish9.ucsd.edu\\\\volume1\\\\20230908_D106Luo\\\\DNA\\\\H32_B94_95_96', '\\\\\\\\merfish9.ucsd.edu\\\\volume1\\\\20230908_D106Luo\\\\DNA\\\\H34_B100_101_102', '\\\\\\\\merfish11.ucsd.edu\\\\Public\\\\20230908_D106Luo\\\\DNA\\\\H66_B196_197_198', '\\\\\\\\merfish9.ucsd.edu\\\\volume1\\\\20230908_D106Luo\\\\DNA\\\\H2_B4_5_6', '\\\\\\\\merfish11.ucsd.edu\\\\Public\\\\20230908_D106Luo\\\\DNA\\\\H93_B277_278_279', '\\\\\\\\merfish9.ucsd.edu\\\\volume1\\\\20230908_D106Luo\\\\DNA\\\\H16_B46_47_48', '\\\\\\\\merfish9.ucsd.edu\\\\volume1\\\\20230908_D106Luo\\\\DNA\\\\H51_B151_152_153', '\\\\\\\\merfish11.ucsd.edu\\\\Public\\\\20230908_D106Luo\\\\DNA\\\\H89_B265_266_267', '\\\\\\\\merfish11.ucsd.edu\\\\Public\\\\20230908_D106Luo\\\\DNA\\\\H81_B241_242_243', '\\\\\\\\merfish9.ucsd.edu\\\\volume1\\\\20230908_D106Luo\\\\DNA\\\\H36_B106_107_108', '\\\\\\\\merfish9.ucsd.edu\\\\volume1\\\\20230908_D106Luo\\\\DNA\\\\H3_B7_8_9', '\\\\\\\\merfish11.ucsd.edu\\\\Public\\\\20230908_D106Luo\\\\DNA\\\\H65_B193_194_195', '\\\\\\\\merfish11.ucsd.edu\\\\Public\\\\20230908_D106Luo\\\\DNA\\\\H92_B274_275_276', '\\\\\\\\merfish11.ucsd.edu\\\\Public\\\\20230908_D106Luo\\\\DNA\\\\H70_B208_209_210', '\\\\\\\\merfish9.ucsd.edu\\\\volume1\\\\20230908_D106Luo\\\\DNA\\\\H24_B70_71_72', '\\\\\\\\merfish11.ucsd.edu\\\\Public\\\\20230908_D106Luo\\\\DNA\\\\H96_B286_287_288', '\\\\\\\\merfish11.ucsd.edu\\\\Public\\\\20230908_D106Luo\\\\DNA\\\\H74_B220_221_222', '\\\\\\\\merfish9.ucsd.edu\\\\volume1\\\\20230908_D106Luo\\\\DNA\\\\H9_B25_26_27', '\\\\\\\\merfish9.ucsd.edu\\\\volume1\\\\20230908_D106Luo\\\\DNA\\\\H47_B139_140_141', '\\\\\\\\merfish11.ucsd.edu\\\\Public\\\\20230908_D106Luo\\\\DNA\\\\H101_B301_302_303', '\\\\\\\\merfish11.ucsd.edu\\\\Public\\\\20230908_D106Luo\\\\DNA\\\\H57_B169_170_171', '\\\\\\\\merfish11.ucsd.edu\\\\Public\\\\20230908_D106Luo\\\\DNA\\\\H78_B232_233_234', '\\\\\\\\merfish11.ucsd.edu\\\\Public\\\\20230908_D106Luo\\\\DNA\\\\H55_B163_164_165', '\\\\\\\\merfish9.ucsd.edu\\\\volume1\\\\20230908_D106Luo\\\\DNA\\\\H4_B10_11_12', '\\\\\\\\merfish11.ucsd.edu\\\\Public\\\\20230908_D106Luo\\\\DNA\\\\H62_B184_185_186']"
   ]
  },
  {
   "cell_type": "code",
   "execution_count": 2,
   "id": "cc0fa4ca-3ce5-45e5-a010-7dda84240b9b",
   "metadata": {},
   "outputs": [
    {
     "data": {
      "text/plain": [
       "105"
      ]
     },
     "execution_count": 2,
     "metadata": {},
     "output_type": "execute_result"
    }
   ],
   "source": [
    "len(flds)"
   ]
  },
  {
   "cell_type": "code",
   "execution_count": 10,
   "id": "80eb4351-8aeb-4162-a3d8-2eb5e08ec243",
   "metadata": {},
   "outputs": [],
   "source": [
    "import os,numpy as np\n",
    "Rs = np.unique(np.array([os.path.basename(fl).split('B')[-1].split('_') for fl in flds],dtype=int))"
   ]
  },
  {
   "cell_type": "code",
   "execution_count": 13,
   "id": "3d6105a6-c5bf-4ae4-8994-cfcf6122c831",
   "metadata": {},
   "outputs": [
    {
     "data": {
      "text/plain": [
       "array([  1,   2,   3,   4,   5,   6,   7,   8,   9,  10,  11,  12,  13,\n",
       "        14,  15,  16,  17,  18,  19,  20,  21,  22,  23,  24,  25,  26,\n",
       "        27,  28,  29,  30,  31,  32,  33,  34,  35,  36,  37,  38,  39,\n",
       "        40,  41,  42,  43,  44,  45,  46,  47,  48,  49,  50,  51,  52,\n",
       "        53,  54,  55,  56,  57,  58,  59,  60,  61,  62,  63,  64,  65,\n",
       "        66,  67,  68,  69,  70,  71,  72,  73,  74,  75,  76,  77,  78,\n",
       "        79,  80,  81,  82,  83,  84,  85,  86,  87,  88,  89,  90,  91,\n",
       "        92,  93,  94,  95,  96,  97,  98,  99, 100, 101, 102, 103, 104,\n",
       "       105, 106, 107, 108, 109, 110, 111, 112, 113, 114, 115, 116, 117,\n",
       "       118, 119, 120, 121, 122, 123, 124, 125, 126, 127, 128, 129, 130,\n",
       "       131, 132, 133, 134, 135, 136, 137, 138, 139, 140, 141, 142, 143,\n",
       "       144, 145, 146, 147, 148, 149, 150, 151, 152, 153, 154, 155, 156,\n",
       "       157, 158, 159, 160, 161, 162, 163, 164, 165, 166, 167, 168, 169,\n",
       "       170, 171, 172, 173, 174, 175, 176, 177, 178, 179, 180, 181, 182,\n",
       "       183, 184, 185, 186, 187, 188, 189, 190, 191, 192, 193, 194, 195,\n",
       "       196, 197, 198, 199, 200, 201, 202, 203, 204, 205, 206, 207, 208,\n",
       "       209, 210, 211, 212, 213, 214, 215, 216, 217, 218, 219, 220, 221,\n",
       "       222, 223, 224, 225, 226, 227, 228, 229, 230, 231, 232, 233, 234,\n",
       "       235, 236, 237, 238, 239, 240, 241, 242, 243, 244, 245, 246, 247,\n",
       "       248, 249, 250, 251, 252, 253, 254, 255, 256, 257, 258, 259, 260,\n",
       "       261, 262, 263, 264, 265, 266, 267, 268, 269, 270, 271, 272, 273,\n",
       "       274, 275, 276, 277, 278, 279, 280, 281, 282, 283, 284, 285, 286,\n",
       "       287, 288, 289, 290, 291, 292, 293, 294, 295, 296, 297, 298, 299,\n",
       "       300, 301, 302, 303, 304, 305, 306, 334, 335, 336, 337, 338, 339])"
      ]
     },
     "execution_count": 13,
     "metadata": {},
     "output_type": "execute_result"
    }
   ],
   "source": [
    "Rs"
   ]
  },
  {
   "cell_type": "code",
   "execution_count": 34,
   "id": "67f4d7d7-be13-4a66-9b43-45cb8c38fbc9",
   "metadata": {},
   "outputs": [],
   "source": [
    "import glob\n",
    "import os,numpy as np\n",
    "save_folder = r'\\\\merfish11.ucsd.edu\\Public\\20230908_D106Luo\\DNA\\AnalysisDeconvolveCG'\n",
    "fls_ = glob.glob(save_folder+r'\\*Xhfits*')"
   ]
  },
  {
   "cell_type": "code",
   "execution_count": null,
   "id": "cbbc8341-4582-4074-b323-8203e435f368",
   "metadata": {},
   "outputs": [
    {
     "name": "stdout",
     "output_type": "stream",
     "text": [
      "1698086583.3477573\n"
     ]
    },
    {
     "name": "stderr",
     "output_type": "stream",
     "text": [
      " 84%|███████████████████████████████████████████████████████████████▏           | 81470/96622 [01:53<00:20, 739.19it/s]"
     ]
    }
   ],
   "source": [
    "### \n",
    "import time\n",
    "from tqdm import tqdm\n",
    "start = time.time()\n",
    "print(start)\n",
    "start = 1698086502\n",
    "times =  [os.path.getmtime(fl) for fl in tqdm(fls_)]"
   ]
  },
  {
   "cell_type": "code",
   "execution_count": null,
   "id": "4fd1f269-0ffe-4a7f-95f5-1ad75a699236",
   "metadata": {},
   "outputs": [],
   "source": [
    "np.sum(start<np.array(times))"
   ]
  },
  {
   "cell_type": "code",
   "execution_count": 33,
   "id": "35330fc2-9cf1-4c79-88b6-764823a3cabf",
   "metadata": {},
   "outputs": [
    {
     "data": {
      "text/plain": [
       "0"
      ]
     },
     "execution_count": 33,
     "metadata": {},
     "output_type": "execute_result"
    }
   ],
   "source": [
    "len([fl for fl in fls_ if 'Xhfits' in fl])"
   ]
  },
  {
   "cell_type": "code",
   "execution_count": 18,
   "id": "2475619f-5390-4406-bdac-d638d9ee4d1e",
   "metadata": {},
   "outputs": [
    {
     "data": {
      "text/plain": [
       "287"
      ]
     },
     "execution_count": 18,
     "metadata": {},
     "output_type": "execute_result"
    }
   ],
   "source": [
    "len([fl for fl in fls_ if 'Xhfits' in fl])"
   ]
  },
  {
   "cell_type": "code",
   "execution_count": 26,
   "id": "0170ea3a-4cfe-4720-8e67-d0b6c5c3d465",
   "metadata": {},
   "outputs": [
    {
     "data": {
      "text/plain": [
       "312"
      ]
     },
     "execution_count": 26,
     "metadata": {},
     "output_type": "execute_result"
    }
   ],
   "source": [
    "len([fl for fl in fls_ if 'dapi' in fl])*3"
   ]
  },
  {
   "cell_type": "code",
   "execution_count": null,
   "id": "4b2d63ba-2444-4bb9-8838-c0c8ff3cf0dd",
   "metadata": {},
   "outputs": [],
   "source": [
    "os.path.getctime"
   ]
  }
 ],
 "metadata": {
  "kernelspec": {
   "display_name": "Python 3 (ipykernel)",
   "language": "python",
   "name": "python3"
  },
  "language_info": {
   "codemirror_mode": {
    "name": "ipython",
    "version": 3
   },
   "file_extension": ".py",
   "mimetype": "text/x-python",
   "name": "python",
   "nbconvert_exporter": "python",
   "pygments_lexer": "ipython3",
   "version": "3.10.9"
  }
 },
 "nbformat": 4,
 "nbformat_minor": 5
}
