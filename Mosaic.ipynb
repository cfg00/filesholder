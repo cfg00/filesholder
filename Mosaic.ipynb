{
 "cells": [
  {
   "cell_type": "code",
   "execution_count": 2,
   "id": "b0fc0df2-decf-4cca-8852-da4d91fb155a",
   "metadata": {},
   "outputs": [
    {
     "name": "stdout",
     "output_type": "stream",
     "text": [
      "\\\\merfish7\\merfish7v2\\20230612_D102_Myh67_d80\\DNA\\zarr_mosaic_printout\\H10_R28_29_30_col0.png\n"
     ]
    },
    {
     "name": "stderr",
     "output_type": "stream",
     "text": [
      "100%|████████████████████████████████████████████████████████████████████████████████| 391/391 [02:11<00:00,  2.96it/s]\n"
     ]
    },
    {
     "name": "stdout",
     "output_type": "stream",
     "text": [
      "\\\\merfish7\\merfish7v2\\20230612_D102_Myh67_d80\\DNA\\zarr_mosaic_printout\\H10_R28_29_30_col0_annot.png\n",
      "\\\\merfish7\\merfish7v2\\20230612_D102_Myh67_d80\\DNA\\zarr_mosaic_printout\\H11_R31_32_33_col0.png\n"
     ]
    },
    {
     "name": "stderr",
     "output_type": "stream",
     "text": [
      "100%|████████████████████████████████████████████████████████████████████████████████| 391/391 [02:39<00:00,  2.45it/s]\n"
     ]
    },
    {
     "name": "stdout",
     "output_type": "stream",
     "text": [
      "\\\\merfish7\\merfish7v2\\20230612_D102_Myh67_d80\\DNA\\zarr_mosaic_printout\\H11_R31_32_33_col0_annot.png\n",
      "\\\\merfish7\\merfish7v2\\20230612_D102_Myh67_d80\\DNA\\zarr_mosaic_printout\\H12_R34_35_36_col0.png\n"
     ]
    },
    {
     "name": "stderr",
     "output_type": "stream",
     "text": [
      "100%|████████████████████████████████████████████████████████████████████████████████| 391/391 [03:52<00:00,  1.68it/s]\n"
     ]
    },
    {
     "name": "stdout",
     "output_type": "stream",
     "text": [
      "\\\\merfish7\\merfish7v2\\20230612_D102_Myh67_d80\\DNA\\zarr_mosaic_printout\\H12_R34_35_36_col0_annot.png\n",
      "\\\\merfish7\\merfish7v2\\20230612_D102_Myh67_d80\\DNA\\zarr_mosaic_printout\\H13_R37_38_39_col0.png\n"
     ]
    },
    {
     "name": "stderr",
     "output_type": "stream",
     "text": [
      "100%|████████████████████████████████████████████████████████████████████████████████| 391/391 [04:02<00:00,  1.61it/s]\n"
     ]
    },
    {
     "name": "stdout",
     "output_type": "stream",
     "text": [
      "\\\\merfish7\\merfish7v2\\20230612_D102_Myh67_d80\\DNA\\zarr_mosaic_printout\\H13_R37_38_39_col0_annot.png\n",
      "\\\\merfish7\\merfish7v2\\20230612_D102_Myh67_d80\\DNA\\zarr_mosaic_printout\\H14_R40_41_42_col0.png\n"
     ]
    },
    {
     "name": "stderr",
     "output_type": "stream",
     "text": [
      "100%|████████████████████████████████████████████████████████████████████████████████| 391/391 [03:05<00:00,  2.11it/s]\n"
     ]
    },
    {
     "name": "stdout",
     "output_type": "stream",
     "text": [
      "\\\\merfish7\\merfish7v2\\20230612_D102_Myh67_d80\\DNA\\zarr_mosaic_printout\\H14_R40_41_42_col0_annot.png\n",
      "\\\\merfish7\\merfish7v2\\20230612_D102_Myh67_d80\\DNA\\zarr_mosaic_printout\\H1_R1_2_3_col0.png\n"
     ]
    },
    {
     "name": "stderr",
     "output_type": "stream",
     "text": [
      "100%|████████████████████████████████████████████████████████████████████████████████| 391/391 [02:22<00:00,  2.75it/s]\n"
     ]
    },
    {
     "name": "stdout",
     "output_type": "stream",
     "text": [
      "\\\\merfish7\\merfish7v2\\20230612_D102_Myh67_d80\\DNA\\zarr_mosaic_printout\\H1_R1_2_3_col0_annot.png\n",
      "\\\\merfish7\\merfish7v2\\20230612_D102_Myh67_d80\\DNA\\zarr_mosaic_printout\\H2_R4_5_6_col0.png\n"
     ]
    },
    {
     "name": "stderr",
     "output_type": "stream",
     "text": [
      "100%|████████████████████████████████████████████████████████████████████████████████| 391/391 [02:29<00:00,  2.62it/s]\n"
     ]
    },
    {
     "name": "stdout",
     "output_type": "stream",
     "text": [
      "\\\\merfish7\\merfish7v2\\20230612_D102_Myh67_d80\\DNA\\zarr_mosaic_printout\\H2_R4_5_6_col0_annot.png\n",
      "\\\\merfish7\\merfish7v2\\20230612_D102_Myh67_d80\\DNA\\zarr_mosaic_printout\\H3_R7_8_9_col0.png\n"
     ]
    },
    {
     "name": "stderr",
     "output_type": "stream",
     "text": [
      "100%|████████████████████████████████████████████████████████████████████████████████| 391/391 [02:35<00:00,  2.51it/s]\n"
     ]
    },
    {
     "name": "stdout",
     "output_type": "stream",
     "text": [
      "\\\\merfish7\\merfish7v2\\20230612_D102_Myh67_d80\\DNA\\zarr_mosaic_printout\\H3_R7_8_9_col0_annot.png\n",
      "\\\\merfish7\\merfish7v2\\20230612_D102_Myh67_d80\\DNA\\zarr_mosaic_printout\\H4_R10_11_12_col0.png\n"
     ]
    },
    {
     "name": "stderr",
     "output_type": "stream",
     "text": [
      "100%|████████████████████████████████████████████████████████████████████████████████| 391/391 [03:49<00:00,  1.71it/s]\n"
     ]
    },
    {
     "name": "stdout",
     "output_type": "stream",
     "text": [
      "\\\\merfish7\\merfish7v2\\20230612_D102_Myh67_d80\\DNA\\zarr_mosaic_printout\\H4_R10_11_12_col0_annot.png\n",
      "\\\\merfish7\\merfish7v2\\20230612_D102_Myh67_d80\\DNA\\zarr_mosaic_printout\\H5_R13_14_15_col0.png\n"
     ]
    },
    {
     "name": "stderr",
     "output_type": "stream",
     "text": [
      "100%|████████████████████████████████████████████████████████████████████████████████| 391/391 [03:21<00:00,  1.94it/s]\n"
     ]
    },
    {
     "name": "stdout",
     "output_type": "stream",
     "text": [
      "\\\\merfish7\\merfish7v2\\20230612_D102_Myh67_d80\\DNA\\zarr_mosaic_printout\\H5_R13_14_15_col0_annot.png\n",
      "\\\\merfish7\\merfish7v2\\20230612_D102_Myh67_d80\\DNA\\zarr_mosaic_printout\\H6_R16_17_18_col0.png\n"
     ]
    },
    {
     "name": "stderr",
     "output_type": "stream",
     "text": [
      "100%|████████████████████████████████████████████████████████████████████████████████| 391/391 [02:20<00:00,  2.79it/s]\n"
     ]
    },
    {
     "name": "stdout",
     "output_type": "stream",
     "text": [
      "\\\\merfish7\\merfish7v2\\20230612_D102_Myh67_d80\\DNA\\zarr_mosaic_printout\\H6_R16_17_18_col0_annot.png\n",
      "\\\\merfish7\\merfish7v2\\20230612_D102_Myh67_d80\\DNA\\zarr_mosaic_printout\\H7_R19_20_21_col0.png\n"
     ]
    },
    {
     "name": "stderr",
     "output_type": "stream",
     "text": [
      "100%|████████████████████████████████████████████████████████████████████████████████| 391/391 [02:07<00:00,  3.08it/s]\n"
     ]
    },
    {
     "name": "stdout",
     "output_type": "stream",
     "text": [
      "\\\\merfish7\\merfish7v2\\20230612_D102_Myh67_d80\\DNA\\zarr_mosaic_printout\\H7_R19_20_21_col0_annot.png\n",
      "\\\\merfish7\\merfish7v2\\20230612_D102_Myh67_d80\\DNA\\zarr_mosaic_printout\\H8_R22_23_24_col0.png\n"
     ]
    },
    {
     "name": "stderr",
     "output_type": "stream",
     "text": [
      "100%|████████████████████████████████████████████████████████████████████████████████| 391/391 [01:58<00:00,  3.30it/s]\n"
     ]
    },
    {
     "name": "stdout",
     "output_type": "stream",
     "text": [
      "\\\\merfish7\\merfish7v2\\20230612_D102_Myh67_d80\\DNA\\zarr_mosaic_printout\\H8_R22_23_24_col0_annot.png\n",
      "\\\\merfish7\\merfish7v2\\20230612_D102_Myh67_d80\\DNA\\zarr_mosaic_printout\\H9_R25_26_27_col0.png\n"
     ]
    },
    {
     "name": "stderr",
     "output_type": "stream",
     "text": [
      "100%|████████████████████████████████████████████████████████████████████████████████| 391/391 [03:03<00:00,  2.14it/s]\n"
     ]
    },
    {
     "name": "stdout",
     "output_type": "stream",
     "text": [
      "\\\\merfish7\\merfish7v2\\20230612_D102_Myh67_d80\\DNA\\zarr_mosaic_printout\\H9_R25_26_27_col0_annot.png\n"
     ]
    }
   ],
   "source": [
    "import time\n",
    "import numpy as np\n",
    "import os\n",
    "import sys\n",
    "import glob\n",
    "import matplotlib.pylab as plt\n",
    "from ioMicro import *\n",
    "from tqdm import tqdm\n",
    "from shutil import copyfile\n",
    "#\\\\merfish7\\merfish7v2\\20230612_D102_Myh67_d80\\DNA\n",
    "#H_B changes w experiment\n",
    "data_flds = glob.glob(r'\\\\merfish7\\merfish7v2\\20230612_D102_Myh67_d80\\DNA\\H*R*')\n",
    "new_direct = r'\\\\merfish7\\merfish7v2\\20230612_D102_Myh67_d80\\DNA\\zarr_mosaic_printout'\n",
    "\n",
    "icol = 0\n",
    "vmax = 17000\n",
    "\n",
    "for data_fld in data_flds:\n",
    "    resc = 4\n",
    "    if os.path.isdir(data_fld):\n",
    "        fl_save = os.path.join(new_direct, os.path.basename(data_fld) + '_col' + str(icol) + '.png')\n",
    "        print(fl_save)\n",
    "        if not os.path.exists(fl_save):\n",
    "            fls_ = np.sort(glob.glob(data_fld + r'\\*.zarr'))\n",
    "            ims, xs_um, ys_um = [], [], []\n",
    "\n",
    "            for fl in tqdm(fls_[:]):\n",
    "                im, x, y = read_im(fl, return_pos=True)\n",
    "                ims.append(np.array(im[icol][15, ::resc, ::resc], dtype=np.float32))\n",
    "                xs_um.append(x)\n",
    "                ys_um.append(y)\n",
    "\n",
    "            im_big, xs, ys = compose_mosaic([im[::-1, ::1] for im in ims], xs_um, ys_um, ims_c=None,\n",
    "                                            um_per_pix=0.1083333 * resc,\n",
    "                                            rot=0, return_coords=True)\n",
    "\n",
    "            resc_ = 3\n",
    "            data_fld = os.path.dirname(fls_[0])\n",
    "            fig = plt.figure(figsize=(30, 30))\n",
    "            im__ = im_big[::resc_, ::resc_]\n",
    "            plt.imshow(im_big.T[::resc_, ::resc_], vmin=0, vmax=vmax, cmap='gray')\n",
    "\n",
    "            fig.savefig(fl_save)\n",
    "            for x_, y_, fl_ in zip(xs, ys, fls_):\n",
    "                ifov = fl_.split('_')[-1].split('.')[0]\n",
    "                plt.text(x_ / resc_, y_ / resc_, ifov, color='r')\n",
    "            plt.xticks([])\n",
    "            plt.yticks([])\n",
    "            fl_save_annot = fl_save.replace('.png', '_annot.png')\n",
    "            print(fl_save_annot)\n",
    "            fig.savefig(fl_save_annot)\n",
    "            plt.close('all')\n",
    "        else:\n",
    "            print(\"Image already exists, skipping...\")\n",
    "    else:\n",
    "        time.sleep(300)\n"
   ]
  }
 ],
 "metadata": {
  "kernelspec": {
   "display_name": "Python 3 (ipykernel)",
   "language": "python",
   "name": "python3"
  },
  "language_info": {
   "codemirror_mode": {
    "name": "ipython",
    "version": 3
   },
   "file_extension": ".py",
   "mimetype": "text/x-python",
   "name": "python",
   "nbconvert_exporter": "python",
   "pygments_lexer": "ipython3",
   "version": "3.9.16"
  }
 },
 "nbformat": 4,
 "nbformat_minor": 5
}
